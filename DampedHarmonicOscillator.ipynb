{
 "cells": [
  {
   "cell_type": "markdown",
   "metadata": {},
   "source": [
    "## Damped harmonic oscillator\n",
    "\n",
    "This notebook shows you how Python can be used to solve a second-order Ordinary Differential Equation using the **scipy** library of modules.\n",
    "\n",
    "\n",
    "In this case, we will think about a weight hanging on a damped spring, with the whole setup kept inside a container of some gas or liquid as shown below.\n",
    "\n",
    "  ![Damped oscillator](dampedHO.png)\n",
    "\n",
    "When pulled and released, the mass $M$ oscillates on the spring, which has a stiffness $K$, with a displacement $x$ until it eventually stops due to the viscosity $C$ of the fluid. The equation that described the displacement $x$ as a function of time is:\n",
    "\n",
    "\n",
    "<div class=\"alert alert-block alert-warning\">\n",
    "$$\n",
    "M\\frac{d^2x}{dt^2}+C\\frac{dx}{dt}+K x=0 .\n",
    "$$\n",
    "</div>\n",
    "\n",
    "We are going to set values for $K$ and $M$ and use Python to see what happens when $C$ changes. \n",
    "\n",
    "Before starting, type in your predictions for what you think will happen in the box below for when\n",
    "\n",
    "1. The fluid is thick like oil ($C$ large),\n",
    "2. The fluid is thin like air ($C$ small).\n"
   ]
  },
  {
   "cell_type": "raw",
   "metadata": {},
   "source": [
    "When C is large you would expect that the mass will quickly stop and not oscillate at all, when it is small you would expect it to oscillate for a long time. There should be some value where if it is any larger it does not oscillate, and any smaller it does."
   ]
  },
  {
   "cell_type": "markdown",
   "metadata": {},
   "source": [
    "The first part of the code block below does some setting up for the problem."
   ]
  },
  {
   "cell_type": "code",
   "execution_count": null,
   "metadata": {},
   "outputs": [],
   "source": [
    "%run ./.setup.ipynb\n",
    "#%matplotlib inline\n",
    "#import valres as vr\n",
    "#import numpy as np\n",
    "from scipy.integrate import odeint\n",
    "import pylab\n",
    "# Damped harmonic oscillator stiffness K (kg.s-2, mass M (kg)\n",
    "K,M=vr.ps[-2:]\n",
    "print(\"Spring stiffness K=\",K,\"kg.s-2\", \"    Mass M=\",M,\"kg\")\n",
    "# initial conditions on x1=x and x2=dx/dt at t=0\n",
    "A, v0 = 3, 0.0         # cm, cm.s-1\n",
    "x0 = A, v0\n",
    "# A suitable grid of time points\n",
    "t = np.linspace(0, 20, 100)"
   ]
  },
  {
   "cell_type": "markdown",
   "metadata": {},
   "source": [
    "The next block is where you can set the value of $C$ to represent a fluid that is thick or thin."
   ]
  },
  {
   "cell_type": "code",
   "execution_count": null,
   "metadata": {},
   "outputs": [],
   "source": [
    "#SET THIS VALUE TO EXPLORE THE EFFECT OF VARYING THE DAMPING\n",
    "#Damping coefficient (kg.s-1) \n",
    "\n",
    "\n",
    "C=12.0\n",
    "\n"
   ]
  },
  {
   "cell_type": "markdown",
   "metadata": {},
   "source": [
    "Now we define a function which gives the governing equation from the top of the notebook in a form that **scipy** can use to find a numerical solution to the problem.\n",
    "\n",
    "Notice that we are actually writing it as *two* first-order equations in terms of $x$ and the velocity $v$\n",
    "\n",
    "<div class=\"alert alert-block alert-warning\">\n",
    "\\begin{align}\n",
    "\\frac{dx}{dt}&=v\\\\\n",
    "\\frac{dv}{dt}&=-\\left(\\frac{C}{M}\\right)v-\\left(\\frac{K}{M}\\right)x\n",
    "\\end{align}\n",
    "</div>\n"
   ]
  },
  {
   "cell_type": "code",
   "execution_count": null,
   "metadata": {},
   "outputs": [],
   "source": [
    "def dxdt(x, t, C, K, M):\n",
    "    \"\"\" Return dx/dt = f(x,t) at time t. \"\"\"\n",
    "    x1, x2 = x\n",
    "    dx1dt = x2\n",
    "    dx2dt = -(C/M) * x2  -(K/M) * x1\n",
    "    return dx1dt, dx2dt"
   ]
  },
  {
   "cell_type": "markdown",
   "metadata": {},
   "source": [
    "Finally, we are in a position to call the **odeint()** function from the **scipy.integrate** module and plot the result."
   ]
  },
  {
   "cell_type": "code",
   "execution_count": null,
   "metadata": {},
   "outputs": [],
   "source": [
    "# Integrate the differential equation\n",
    "x1, x2 = odeint(dxdt, x0, t, args=(C,K,M,)).T\n",
    "\n",
    "# Plot numerical solution\n",
    "pylab.figure(num=None, figsize=(16, 8), dpi=80, facecolor='c', edgecolor='b')\n",
    "pylab.plot(t, x1, 'o', color='b', label='Damped oscillator')\n",
    "\n",
    "pylab.xlabel(r'$t\\;/\\mathrm{s}$')\n",
    "pylab.ylabel(r'$x\\;/\\mathrm{cm}$')\n",
    "pylab.legend()\n",
    "pylab.show();"
   ]
  },
  {
   "cell_type": "markdown",
   "metadata": {},
   "source": [
    "What do you notice about the solution? What happens when you change $C$? Does it agree with your predictions?\n",
    "\n",
    "You should be able to find *two* different types of behaviour. Can you figure out an estimate of the value of $C$ which is between these two behaviours?\n",
    "\n",
    "Try to do this by testing different values of $C$ and looking at the plots. When you think you have it, run the next cell and enter your estimate in the box."
   ]
  },
  {
   "cell_type": "code",
   "execution_count": null,
   "metadata": {},
   "outputs": [],
   "source": [
    "vr.valdho(M,K)"
   ]
  }
 ],
 "metadata": {
  "kernelspec": {
   "display_name": "Python 3",
   "language": "python",
   "name": "python3"
  },
  "language_info": {
   "codemirror_mode": {
    "name": "ipython",
    "version": 3
   },
   "file_extension": ".py",
   "mimetype": "text/x-python",
   "name": "python",
   "nbconvert_exporter": "python",
   "pygments_lexer": "ipython3",
   "version": "3.8.5"
  }
 },
 "nbformat": 4,
 "nbformat_minor": 1
}
