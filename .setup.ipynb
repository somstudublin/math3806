{
 "cells": [
  {
   "cell_type": "code",
   "execution_count": 2,
   "metadata": {},
   "outputs": [
    {
     "name": "stdout",
     "output_type": "stream",
     "text": [
      "The autoreload extension is already loaded. To reload it, use:\n",
      "  %reload_ext autoreload\n",
      "\n",
      "Setup complete\n"
     ]
    }
   ],
   "source": [
    "%matplotlib inline\n",
    "import matplotlib.pyplot as plt\n",
    "%load_ext autoreload\n",
    "%autoreload 2\n",
    "\n",
    "#Output from every line\n",
    "from IPython.core.interactiveshell import InteractiveShell\n",
    "InteractiveShell.ast_node_interactivity = \"all\"\n",
    "# 'all', 'none', 'last' and 'last_expr' (default)\n",
    "\n",
    "import valres as vr\n",
    "\n",
    "import numpy as np\n",
    "from scipy.integrate import odeint\n",
    "import pylab\n",
    "\n",
    "\n",
    "# Set pslen notebook parameters to vr.ps\n",
    "pslen=100\n",
    "#ps=vr.getco(pslen)[-2:]\n",
    "vr.getco(pslen)\n",
    "\n",
    "from IPython.core.debugger import Tracer\n",
    "\n",
    "print(\"\\nSetup complete\")"
   ]
  },
  {
   "cell_type": "code",
   "execution_count": 3,
   "metadata": {},
   "outputs": [
    {
     "data": {
      "text/plain": [
       "['Markdown',\n",
       " '__builtins__',\n",
       " '__cached__',\n",
       " '__doc__',\n",
       " '__file__',\n",
       " '__loader__',\n",
       " '__name__',\n",
       " '__package__',\n",
       " '__spec__',\n",
       " 'a1',\n",
       " 'a1_notlive',\n",
       " 'a2',\n",
       " 'a2_notlive',\n",
       " 'a3',\n",
       " 'a3_notlive',\n",
       " 'a4',\n",
       " 'a4_notlive',\n",
       " 'a5',\n",
       " 'a5_notlive',\n",
       " 'a6',\n",
       " 'a6_notlive',\n",
       " 'a7',\n",
       " 'a7_notlive',\n",
       " 'a8',\n",
       " 'a8_notlive',\n",
       " 'b1',\n",
       " 'b1_notlive',\n",
       " 'b2',\n",
       " 'b2_notlive',\n",
       " 'b3',\n",
       " 'b3_notlive',\n",
       " 'clear_output',\n",
       " 'create_multipleChoice_widget',\n",
       " 'display',\n",
       " 'getco',\n",
       " 'getpass',\n",
       " 'math',\n",
       " 'np',\n",
       " 'os',\n",
       " 'pj',\n",
       " 'printmd',\n",
       " 'ps',\n",
       " 'pyarmor_runtime',\n",
       " 'repeat_to_length',\n",
       " 'runQ1',\n",
       " 'runQ2x',\n",
       " 'runQ3x',\n",
       " 'runQ4x',\n",
       " 'runQ5x',\n",
       " 'runQ6x',\n",
       " 'runQ7x',\n",
       " 'runq1',\n",
       " 'sys',\n",
       " 'time',\n",
       " 'trycount',\n",
       " 'valdho',\n",
       " 'valdrivendho',\n",
       " 'waiter',\n",
       " 'wd',\n",
       " 'widgets']"
      ]
     },
     "execution_count": 3,
     "metadata": {},
     "output_type": "execute_result"
    }
   ],
   "source": [
    "dir(vr)"
   ]
  },
  {
   "cell_type": "code",
   "execution_count": null,
   "metadata": {},
   "outputs": [],
   "source": []
  }
 ],
 "metadata": {
  "kernelspec": {
   "display_name": "Python 3",
   "language": "python",
   "name": "python3"
  },
  "language_info": {
   "codemirror_mode": {
    "name": "ipython",
    "version": 3
   },
   "file_extension": ".py",
   "mimetype": "text/x-python",
   "name": "python",
   "nbconvert_exporter": "python",
   "pygments_lexer": "ipython3",
   "version": "3.8.10"
  }
 },
 "nbformat": 4,
 "nbformat_minor": 1
}
