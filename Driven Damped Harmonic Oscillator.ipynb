{
 "cells": [
  {
   "cell_type": "markdown",
   "metadata": {},
   "source": [
    "## Driven damped harmonic oscillator\n",
    "\n",
    "This notebook shows you how Python can be used to solve a second-order Ordinary Differential Equation using the **scipy** library of modules.\n",
    "\n",
    "\n",
    "In this case, we will think about a weight hanging on a damped spring, with the whole setup kept inside a container of some gas or liquid as shown below. A diving force is applied with amplitude $F_d$ and frequency $\\omega_d$.\n",
    "\n",
    "  ![Forced Damped oscillator](forceddampedHO.png)\n",
    "\n",
    "When pulled and released, the mass $M$ oscillates on the spring, which has a stiffness $K$, with a displacement $x$ until it eventually stops due to the viscosity $C$ of the fluid. The equation that described the displacement $x$ as a function of time is:\n",
    "\n",
    "\n",
    "<div class=\"alert alert-block alert-warning\">\n",
    "$$\n",
    "M\\frac{d^2x}{dt^2}+C\\frac{dx}{dt}+K x =F_d\\cos(\\omega_d t) .\n",
    "$$\n",
    "</div>\n",
    "\n",
    "We are going to fix values for $K$, $M$, $C$, $F_d$, and use Python to see what happens when $\\omega_d$ changes. \n",
    "\n",
    "Before starting, type in your predictions for what you think will happen in the box below for when\n",
    "\n",
    "1. The driving frequency is low ($\\omega_d\\ll 1$),\n",
    "2. The driving frequency is high ($\\omega_d\\gg 1$).\n"
   ]
  },
  {
   "cell_type": "markdown",
   "metadata": {},
   "source": [
    "The first part of the code block below does some setting up for the problem."
   ]
  },
  {
   "cell_type": "code",
   "execution_count": null,
   "metadata": {},
   "outputs": [],
   "source": [
    "%run ./.setup.ipynb"
   ]
  },
  {
   "cell_type": "code",
   "execution_count": null,
   "metadata": {},
   "outputs": [],
   "source": [
    "#%matplotlib inline\n",
    "#import valres as vr\n",
    "#import numpy as np\n",
    "#from scipy.integrate import odeint\n",
    "#import pylab\n",
    "# Forced damped harmonic oscillator stiffness K (kg.s-2, mass M (kg)\n",
    "K,M,C,Fd=vr.ps[0:4]\n",
    "C/=10\n",
    "print(\"Spring stiffness K=\",K,\"kg.s-2\", \"    Mass M=\",M,\"kg\", \"     Viscosity C=\",C,\"kg/s\", \"    Driving force amplitude Fd=\",Fd,\"N\")\n",
    "# initial conditions on x1=x and x2=dx/dt at t=0\n",
    "A, v0 = 3, 0.0         # cm, cm.s-1\n",
    "x0 = A, v0\n",
    "Tfinal=100\n",
    "# A suitable grid of time points\n",
    "t = np.linspace(0, Tfinal, 5*Tfinal)\n"
   ]
  },
  {
   "cell_type": "markdown",
   "metadata": {},
   "source": [
    "The next block is where you can set the value of $\\omega_d$."
   ]
  },
  {
   "cell_type": "code",
   "execution_count": null,
   "metadata": {},
   "outputs": [],
   "source": [
    "#EXPLORE THE EFFECT OF VARYING THE FORCING FREQUENCY \n",
    "\n",
    "gam=0.5*C/M\n",
    "om=np.sqrt(K/M)\n",
    "zet=Fd/M\n",
    "\n",
    "#SET YOUR TEST VALUE FOR THE RESONANCE FREQUENCY HERE:                                                                                                                                               omd=np.sqrt(om**2-2*gam**2)\n",
    "omd=1.7\n",
    "\n",
    "print('gam=',gam,'  om=',om,'   zet=',zet,'   omd=',omd)"
   ]
  },
  {
   "cell_type": "markdown",
   "metadata": {},
   "source": [
    "Now we define a function which gives the governing equation from the top of the notebook in a form that **scipy** can use to find a numerical solution to the problem.\n",
    "\n",
    "Notice that we are actually writing it as *two* first-order equations in terms of $x$ and the velocity $v$\n",
    "\n",
    "<div class=\"alert alert-block alert-warning\">\n",
    "\\begin{align}\n",
    "\\frac{dx}{dt}&=v\\\\\n",
    "\\frac{dv}{dt}&=-2\\gamma v-\\omega^2 x +\\zeta \\cos(\\omega_d t)\n",
    "\\end{align}\n",
    "</div>\n"
   ]
  },
  {
   "cell_type": "code",
   "execution_count": null,
   "metadata": {},
   "outputs": [],
   "source": [
    "def dxdt(x, t, C, K, M, Fd, omd):\n",
    "    \"\"\" Return dx/dt = f(x,t) at time t. \"\"\"\n",
    "    x1, x2 = x\n",
    "    dx1dt = x2\n",
    "    dx2dt = -2*gam * x2  -om*om * x1  +zet*np.cos(omd*t)\n",
    "    return dx1dt, dx2dt"
   ]
  },
  {
   "cell_type": "markdown",
   "metadata": {},
   "source": [
    "Finally, we are in a position to call the **odeint()** function from the **scipy.integrate** module and plot the result."
   ]
  },
  {
   "cell_type": "code",
   "execution_count": null,
   "metadata": {},
   "outputs": [],
   "source": [
    "# Integrate the differential equation\n",
    "x1, x2 = odeint(dxdt, x0, t, args=(C,K,M,Fd,omd,)).T\n",
    "\n",
    "\n",
    "# Plot numerical solution\n",
    "##pylab.plot(t, x1, 'o', color='k', label='Driven damped oscillator')\n",
    "pylab.figure(num=None, figsize=(12, 8), dpi=80, facecolor='c', edgecolor='b');\n",
    "pylab.plot(t, x1, '-o', color='b', label='Driven damped oscillator');\n",
    "\n",
    "pylab.xlabel(r'$t\\;/\\mathrm{s}$');\n",
    "pylab.ylabel(r'$x\\;/\\mathrm{cm}$');\n",
    "pylab.legend();\n"
   ]
  },
  {
   "cell_type": "markdown",
   "metadata": {},
   "source": [
    "What do you notice about the solution? What happens when you change $\\omega_d$? Does it agree with your predictions?\n",
    "\n",
    "Try and find the best illustration of a chaotic-looking behaviour.\n",
    "\n",
    "Try and estimate the resonant value of $\\omega_d$ experimentally and then run the CA below."
   ]
  },
  {
   "cell_type": "code",
   "execution_count": null,
   "metadata": {},
   "outputs": [],
   "source": [
    "vr.valdrivendho(om,gam)"
   ]
  },
  {
   "cell_type": "code",
   "execution_count": null,
   "metadata": {},
   "outputs": [],
   "source": []
  }
 ],
 "metadata": {
  "kernelspec": {
   "display_name": "Python 3",
   "language": "python",
   "name": "python3"
  },
  "language_info": {
   "codemirror_mode": {
    "name": "ipython",
    "version": 3
   },
   "file_extension": ".py",
   "mimetype": "text/x-python",
   "name": "python",
   "nbconvert_exporter": "python",
   "pygments_lexer": "ipython3",
   "version": "3.8.5"
  }
 },
 "nbformat": 4,
 "nbformat_minor": 1
}
